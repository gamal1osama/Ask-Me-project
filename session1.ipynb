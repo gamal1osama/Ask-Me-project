{
  "nbformat": 4,
  "nbformat_minor": 0,
  "metadata": {
    "colab": {
      "provenance": [],
      "authorship_tag": "ABX9TyP69PtBlFkcwQU8ZI0vl/o+",
      "include_colab_link": true
    },
    "kernelspec": {
      "name": "python3",
      "display_name": "Python 3"
    },
    "language_info": {
      "name": "python"
    }
  },
  "cells": [
    {
      "cell_type": "markdown",
      "metadata": {
        "id": "view-in-github",
        "colab_type": "text"
      },
      "source": [
        "<a href=\"https://colab.research.google.com/github/gamal1osama/Ask-Me-project/blob/main/session1.ipynb\" target=\"_parent\"><img src=\"https://colab.research.google.com/assets/colab-badge.svg\" alt=\"Open In Colab\"/></a>"
      ]
    },
    {
      "cell_type": "code",
      "execution_count": null,
      "metadata": {
        "id": "b_uqU5jdB8QR"
      },
      "outputs": [],
      "source": [
        "dfga"
      ]
    },
    {
      "cell_type": "code",
      "source": [
        "adf"
      ],
      "metadata": {
        "id": "aWP-KbEjCqLD"
      },
      "execution_count": null,
      "outputs": []
    }
  ]
}